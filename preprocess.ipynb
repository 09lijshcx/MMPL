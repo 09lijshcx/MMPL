{
 "cells": [
  {
   "cell_type": "code",
   "execution_count": null,
   "id": "dcb06de4-2ffc-4edf-aef9-2ad493703302",
   "metadata": {
    "tags": []
   },
   "outputs": [],
   "source": [
    "from rdkit import Chem\n",
    "import pandas as pd"
   ]
  },
  {
   "cell_type": "code",
   "execution_count": null,
   "id": "27f4e113-16f0-4652-b667-6c8cd3a3874b",
   "metadata": {},
   "outputs": [],
   "source": [
    "# load dataset\n",
    "path = \"/home/jovyan/PharmaBench/data/final_datasets/bbb_cls_final_data.csv\"\n",
    "# path = \"/home/jovyan/PharmaBench/data/final_datasets/logd_reg_final_data.csv\"\n",
    "data = pd.read_csv(path)\n",
    "\n",
    "scaffold_training = data[data['scaffold_train_test_label'] == 'train']\n",
    "scaffold_test = data[data['scaffold_train_test_label'] == 'test']\n",
    "\n",
    "random_training = data[data['random_train_test_label'] == 'train']\n",
    "random_test = data[data['scaffold_train_test_label'] == 'test']"
   ]
  },
  {
   "cell_type": "code",
   "execution_count": null,
   "id": "114a7604-b419-4bee-adbb-b02aaf80d87b",
   "metadata": {
    "tags": []
   },
   "outputs": [],
   "source": [
    "Chem.MolFromSmiles(scaffold_training['Smiles_unify'][0])"
   ]
  },
  {
   "cell_type": "code",
   "execution_count": null,
   "id": "38790a4f-6e04-4830-915a-2f2599bef235",
   "metadata": {
    "tags": []
   },
   "outputs": [],
   "source": [
    "for i in range(num_atoms):\n",
    "    for j in range(num_atoms):\n",
    "        if i != j:\n",
    "            distances[i, j] = np.linalg.norm(positions[i] - positions[j])"
   ]
  },
  {
   "cell_type": "code",
   "execution_count": null,
   "id": "b72060d4-ba3b-4b43-985c-9dc158ec5a49",
   "metadata": {
    "tags": []
   },
   "outputs": [],
   "source": [
    "scaffold_training = scaffold_training.reset_index()\n",
    "scaffold_test = scaffold_test.reset_index()"
   ]
  },
  {
   "cell_type": "code",
   "execution_count": null,
   "id": "760a6016-e830-4b01-a70f-15b1bf0541e2",
   "metadata": {
    "tags": []
   },
   "outputs": [],
   "source": [
    "print(len(scaffold_training['Smiles_unify']))\n",
    "max_shape = 0 \n",
    "num = 0\n",
    "smi_list = []\n",
    "for i in range(len(scaffold_training['Smiles_unify'])):\n",
    "    shape = len(scaffold_training['Smiles_unify'][i])\n",
    "    smi_list.append(scaffold_training['Smiles_unify'][i])\n",
    "    num += 1\n",
    "print(f\"number of the valuable data is {num}.\")"
   ]
  },
  {
   "cell_type": "code",
   "execution_count": null,
   "id": "b0fea29a-1132-4e35-92ba-cc65e237856b",
   "metadata": {
    "tags": []
   },
   "outputs": [],
   "source": [
    "print(len(scaffold_test['Smiles_unify']))\n",
    "max_shape = 0 \n",
    "num = 0\n",
    "smi_list = []\n",
    "for i in range(len(scaffold_test['Smiles_unify'])):\n",
    "    shape = len(scaffold_test['Smiles_unify'][i])\n",
    "    smi_list.append(scaffold_test['Smiles_unify'][i])\n",
    "    num += 1\n",
    "print(f\"number of the valuable data is {num}.\")"
   ]
  },
  {
   "cell_type": "code",
   "execution_count": null,
   "id": "c4f14db2-1773-4908-b40f-f8b89215bf15",
   "metadata": {},
   "outputs": [],
   "source": [
    "import os\n",
    "import numpy as np\n",
    "import pandas as pd\n",
    "import lmdb\n",
    "from rdkit import Chem\n",
    "from rdkit.Chem import AllChem\n",
    "from tqdm import tqdm\n",
    "import pickle\n",
    "import glob\n",
    "from multiprocessing import Pool\n",
    "from collections import defaultdict\n",
    "def smi2_2Dcoords(smi):\n",
    "    mol = Chem.MolFromSmiles(smi)\n",
    "    mol = AllChem.AddHs(mol)\n",
    "    AllChem.Compute2DCoords(mol)\n",
    "    coordinates = mol.GetConformer().GetPositions().astype(np.float32)\n",
    "    len(mol.GetAtoms()) == len(coordinates), \"2D coordinates shape is not align with {}\".format(smi)\n",
    "    return coordinates\n",
    "\n",
    "\n",
    "def smi2_3Dcoords(smi,cnt):\n",
    "    mol = Chem.MolFromSmiles(smi)\n",
    "    mol = AllChem.AddHs(mol)\n",
    "    coordinate_list=[]\n",
    "    for seed in range(cnt):\n",
    "        try:\n",
    "            res = AllChem.EmbedMolecule(mol, randomSeed=seed)  # will random generate conformer with seed equal to -1. else fixed random seed.\n",
    "            if res == 0:\n",
    "                try:\n",
    "                    AllChem.MMFFOptimizeMolecule(mol)       # some conformer can not use MMFF optimize\n",
    "                    coordinates = mol.GetConformer().GetPositions()\n",
    "                except:\n",
    "                    print(\"Failed to generate 3D, replace with 2D\")\n",
    "                    coordinates = smi2_2Dcoords(smi)            \n",
    "                    \n",
    "            elif res == -1:\n",
    "                mol_tmp = Chem.MolFromSmiles(smi)\n",
    "                AllChem.EmbedMolecule(mol_tmp, maxAttempts=5000, randomSeed=seed)\n",
    "                mol_tmp = AllChem.AddHs(mol_tmp, addCoords=True)\n",
    "                try:\n",
    "                    AllChem.MMFFOptimizeMolecule(mol_tmp)       # some conformer can not use MMFF optimize\n",
    "                    coordinates = mol_tmp.GetConformer().GetPositions()\n",
    "                except:\n",
    "                    print(\"Failed to generate 3D, replace with 2D\")\n",
    "                    coordinates = smi2_2Dcoords(smi) \n",
    "        except:\n",
    "            print(\"Failed to generate 3D, replace with 2D\")\n",
    "            coordinates = smi2_2Dcoords(smi) \n",
    "\n",
    "        assert len(mol.GetAtoms()) == len(coordinates), \"3D coordinates shape is not align with {}\".format(smi)\n",
    "        coordinate_list.append(coordinates.astype(np.float32))\n",
    "    return coordinate_list\n",
    "\n",
    "\n",
    "def inner_smi2coords(content):\n",
    "    smi = content\n",
    "    cnt = 10 # conformer num,all==11, 10 3d + 1 2d\n",
    "\n",
    "    mol = Chem.MolFromSmiles(smi)\n",
    "    if len(mol.GetAtoms()) > 400:\n",
    "        coordinate_list =  [smi2_2Dcoords(smi)] * (cnt+1)\n",
    "        print(\"atom num >400,use 2D coords\",smi)\n",
    "    else:\n",
    "        coordinate_list = smi2_3Dcoords(smi,cnt)\n",
    "        # add 2d conf\n",
    "        coordinate_list.append(smi2_2Dcoords(smi).astype(np.float32))\n",
    "    mol = AllChem.AddHs(mol)\n",
    "    atoms = [atom.GetSymbol() for atom in mol.GetAtoms()]  # after add H \n",
    "    return pickle.dumps({'atoms': atoms, 'coordinates': coordinate_list, 'smi': smi }, protocol=-1)\n",
    "\n",
    "\n",
    "def smi2coords(content):\n",
    "    try:\n",
    "        return inner_smi2coords(content)\n",
    "    except:\n",
    "        print(\"failed smiles: {}\".format(content[0]))\n",
    "        return None\n",
    "\n",
    "\n",
    "def write_lmdb(smiles_list, job_name, seed=42, outpath='./results', nthreads=8):\n",
    "    os.makedirs(outpath, exist_ok=True)\n",
    "    output_name = os.path.join(outpath,'{}.lmdb'.format(job_name))\n",
    "    try:\n",
    "        os.remove(output_name)\n",
    "    except:\n",
    "        pass\n",
    "    env_new = lmdb.open(\n",
    "        output_name,\n",
    "        subdir=False,\n",
    "        readonly=False,\n",
    "        lock=False,\n",
    "        readahead=False,\n",
    "        meminit=False,\n",
    "        max_readers=1,\n",
    "        map_size=int(100e9),\n",
    "    )\n",
    "    txn_write = env_new.begin(write=True)\n",
    "    with Pool(nthreads) as pool:\n",
    "        i = 0\n",
    "        for inner_output in tqdm(pool.imap(smi2coords, smiles_list)):\n",
    "            if inner_output is not None:\n",
    "                txn_write.put(f'{i}'.encode(\"ascii\"), inner_output)\n",
    "                i += 1\n",
    "        print('{} process {} lines'.format(job_name, i))\n",
    "        txn_write.commit()\n",
    "        env_new.close()\n",
    "\n",
    "seed = 42\n",
    "# job_name = 'get_mol_repr'   # replace to your custom name\n",
    "# job_name = 'get_mol_repr_test'   # replace to your custom name\n",
    "job_name = 'bbb_test'\n",
    "data_path = './results'  # replace to your data path\n",
    "weight_path='../ckp/mol_pre_no_h_220816.pt'  # replace to your ckpt path\n",
    "only_polar=0  # no h\n",
    "dict_name='dict.txt'\n",
    "batch_size=16\n",
    "conf_size=11  # default 10 3d + 1 2d\n",
    "results_path=data_path   # replace to your save path\n",
    "write_lmdb(smi_list, job_name=job_name, seed=seed, outpath=data_path)"
   ]
  },
  {
   "cell_type": "code",
   "execution_count": 2,
   "id": "685f7b72-2f1b-4afc-ac79-bc5a262d2146",
   "metadata": {},
   "outputs": [
    {
     "name": "stdout",
     "output_type": "stream",
     "text": [
      "torch.Size([11, 80, 80])\n"
     ]
    }
   ],
   "source": [
    "import torch\n",
    "coor = torch.randn([11, 80, 3], dtype=torch.float32)\n",
    "con, num, loc = coor.shape\n",
    "# distance = torch.zeros([11, 80, 80, 3], dtype=torch.float32)\n",
    "\n",
    "\n",
    "# for n_cur in range(num):\n",
    "#     atom_cur = coor[:, n_cur:n_cur+1, :].repeat(1, num, 1)\n",
    "#     distance_cur = atom_cur-coor\n",
    "#     distance[:, n_cur, :, :] = distance_cur\n",
    "# print(distance[0, 0, :, 0])\n",
    "# del distance\n",
    "\n",
    "# 计算距离\n",
    "atom_expanded = coor.unsqueeze(2)  # shape (11, 80, 1, 3)\n",
    "coor_expanded = coor.unsqueeze(1)   # shape (11, 1, 80, 3)\n",
    "# distance = atom_expanded - coor_expanded\n",
    "distance = torch.sqrt((atom_expanded - coor_expanded).pow(2).sum(dim=-1))\n",
    "print(distance.shape)\n",
    "                "
   ]
  },
  {
   "cell_type": "code",
   "execution_count": 4,
   "id": "b84281cb-2d29-41b7-8431-b739df3fac1c",
   "metadata": {},
   "outputs": [
    {
     "name": "stdout",
     "output_type": "stream",
     "text": [
      "最短路径矩阵:\n",
      " [[0. 1. 2.]\n",
      " [1. 0. 1.]\n",
      " [2. 1. 0.]]\n",
      "边矩阵:\n",
      " [[1. 1. 0.]\n",
      " [1. 1. 1.]\n",
      " [0. 1. 1.]]\n"
     ]
    }
   ],
   "source": [
    "from rdkit import Chem\n",
    "from rdkit.Chem import AllChem\n",
    "import numpy as np\n",
    " \n",
    "# 加载分子\n",
    "mol = Chem.MolFromSmiles('CCC')\n",
    " \n",
    "# 计算2D坐标\n",
    "AllChem.Compute2DCoords(mol)\n",
    " \n",
    "# 获取最短路径矩阵 SPD\n",
    "distance_matrix = AllChem.GetDistanceMatrix(mol) \n",
    " \n",
    "# 获取边矩阵 Edge\n",
    "adjacency_matrix = np.array(AllChem.GetAdjacencyMatrix(mol)) # 可以进一步获得度 Degree\n",
    "adj = np.eye(3, 3)\n",
    "adjacency_matrix = adj + adjacency_matrix \n",
    " \n",
    "# 打印结果\n",
    "print(\"最短路径矩阵:\\n\", distance_matrix)\n",
    "print(\"边矩阵:\\n\", adjacency_matrix)"
   ]
  },
  {
   "cell_type": "code",
   "execution_count": null,
   "id": "1703cc94-eca2-4890-bee8-c2a21a3f67dd",
   "metadata": {},
   "outputs": [],
   "source": []
  }
 ],
 "metadata": {
  "kernelspec": {
   "display_name": "fcb",
   "language": "python",
   "name": "fcb"
  },
  "language_info": {
   "codemirror_mode": {
    "name": "ipython",
    "version": 3
   },
   "file_extension": ".py",
   "mimetype": "text/x-python",
   "name": "python",
   "nbconvert_exporter": "python",
   "pygments_lexer": "ipython3",
   "version": "3.8.20"
  }
 },
 "nbformat": 4,
 "nbformat_minor": 5
}
