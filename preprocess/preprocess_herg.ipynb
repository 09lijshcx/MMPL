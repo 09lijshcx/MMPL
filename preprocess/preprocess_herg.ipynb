{
 "cells": [
  {
   "cell_type": "code",
   "execution_count": null,
   "id": "9e995b34-265d-42e8-9bd0-8ae013ffdecc",
   "metadata": {
    "tags": []
   },
   "outputs": [],
   "source": [
    "import os\n",
    "import numpy as np\n",
    "import pandas as pd\n",
    "import lmdb\n",
    "from rdkit import Chem\n",
    "from rdkit.Chem import AllChem\n",
    "from tqdm import tqdm\n",
    "import pickle\n",
    "import glob\n",
    "from multiprocessing import Pool\n",
    "from collections import defaultdict\n",
    "\n",
    "\n",
    "def smi2_2Dcoords(smi):\n",
    "    mol = Chem.MolFromSmiles(smi)\n",
    "    mol = AllChem.AddHs(mol)\n",
    "    AllChem.Compute2DCoords(mol)\n",
    "    coordinates = mol.GetConformer().GetPositions().astype(np.float32)\n",
    "    len(mol.GetAtoms()) == len(coordinates), \"2D coordinates shape is not align with {}\".format(smi)\n",
    "    return coordinates\n",
    "\n",
    "\n",
    "def smi2_3Dcoords(smi,cnt):\n",
    "    mol = Chem.MolFromSmiles(smi)\n",
    "    mol = AllChem.AddHs(mol)\n",
    "    coordinate_list=[]\n",
    "    for seed in range(cnt):\n",
    "        try:\n",
    "            res = AllChem.EmbedMolecule(mol, randomSeed=seed)  # will random generate conformer with seed equal to -1. else fixed random seed.\n",
    "            if res == 0:\n",
    "                try:\n",
    "                    AllChem.MMFFOptimizeMolecule(mol)       # some conformer can not use MMFF optimize\n",
    "                    coordinates = mol.GetConformer().GetPositions()\n",
    "                except:\n",
    "                    print(\"Failed to generate 3D, replace with 2D\")\n",
    "                    coordinates = smi2_2Dcoords(smi)            \n",
    "                    \n",
    "            elif res == -1:\n",
    "                mol_tmp = Chem.MolFromSmiles(smi)\n",
    "                AllChem.EmbedMolecule(mol_tmp, maxAttempts=5000, randomSeed=seed)\n",
    "                mol_tmp = AllChem.AddHs(mol_tmp, addCoords=True)\n",
    "                try:\n",
    "                    AllChem.MMFFOptimizeMolecule(mol_tmp)       # some conformer can not use MMFF optimize\n",
    "                    coordinates = mol_tmp.GetConformer().GetPositions()\n",
    "                except:\n",
    "                    print(\"Failed to generate 3D, replace with 2D\")\n",
    "                    coordinates = smi2_2Dcoords(smi) \n",
    "        except:\n",
    "            print(\"Failed to generate 3D, replace with 2D\")\n",
    "            coordinates = smi2_2Dcoords(smi) \n",
    "\n",
    "        assert len(mol.GetAtoms()) == len(coordinates), \"3D coordinates shape is not align with {}\".format(smi)\n",
    "        coordinate_list.append(coordinates.astype(np.float32))\n",
    "    return coordinate_list\n",
    "\n",
    "\n",
    "def inner_smi2coords(content):\n",
    "    smi = content\n",
    "    cnt = 10 # conformer num,all==11, 10 3d + 1 2d\n",
    "\n",
    "    mol = Chem.MolFromSmiles(smi)\n",
    "    if len(mol.GetAtoms()) > 400:\n",
    "        coordinate_list =  [smi2_2Dcoords(smi)] * (cnt+1)\n",
    "        print(\"atom num >400,use 2D coords\",smi)\n",
    "    else:\n",
    "        coordinate_list = smi2_3Dcoords(smi,cnt)\n",
    "        # add 2d conf\n",
    "        coordinate_list.append(smi2_2Dcoords(smi).astype(np.float32))\n",
    "    mol = AllChem.AddHs(mol)\n",
    "    atoms = [atom.GetSymbol() for atom in mol.GetAtoms()]  # after add H \n",
    "    \n",
    "    # 获取最短路径矩阵 SPD\n",
    "    distance_matrix = AllChem.GetDistanceMatrix(mol) \n",
    " \n",
    "    # 获取边矩阵 Edge\n",
    "    adjacency_matrix = AllChem.GetAdjacencyMatrix(mol)\n",
    "    \n",
    "    return pickle.dumps({'atoms': atoms, 'coordinates': coordinate_list, \"SPD\": distance_matrix,\\\n",
    "                         \"edge\": adjacency_matrix, 'smi': smi }, protocol=-1)\n",
    "\n",
    "\n",
    "def smi2coords(content):\n",
    "    try:\n",
    "        return inner_smi2coords(content)\n",
    "    except:\n",
    "        print(\"failed smiles: {}\".format(content[0]))\n",
    "        return None\n",
    "\n",
    "\n",
    "def write_lmdb(smiles_list, job_name, seed=42, outpath='./results', nthreads=8):\n",
    "    os.makedirs(outpath, exist_ok=True)\n",
    "    output_name = os.path.join(outpath,'{}.lmdb'.format(job_name))\n",
    "    try:\n",
    "        os.remove(output_name)\n",
    "    except:\n",
    "        pass\n",
    "    env_new = lmdb.open(\n",
    "        output_name,\n",
    "        subdir=False,\n",
    "        readonly=False,\n",
    "        lock=False,\n",
    "        readahead=False,\n",
    "        meminit=False,\n",
    "        max_readers=1,\n",
    "        map_size=int(100e9),\n",
    "    )\n",
    "    txn_write = env_new.begin(write=True)\n",
    "    with Pool(nthreads) as pool:\n",
    "        i = 0\n",
    "        for inner_output in tqdm(pool.imap(smi2coords, smiles_list)):\n",
    "            if inner_output is not None:\n",
    "                txn_write.put(f'{i}'.encode(\"ascii\"), inner_output)\n",
    "                i += 1\n",
    "        print('{} process {} lines'.format(job_name, i))\n",
    "        txn_write.commit()\n",
    "        env_new.close()\n",
    "\n",
    "\n",
    "\n",
    "\n",
    "# load dataset\n",
    "path = \"/home/jovyan/prompts_learning/herg_dataset/hERGDB_cls_train_data.csv\"\n",
    "data = pd.read_csv(path)\n",
    "\n",
    "print(len(data))\n",
    "num = 0\n",
    "smi_list = []\n",
    "for i in range(len(data)):\n",
    "    smi_list.append(data['smiles'][i])\n",
    "    num += 1\n",
    "print(f\"number of the valuable data is {num}.\")\n",
    "\n",
    "path = \"/home/jovyan/prompts_learning/herg_dataset/hERGDB_cls_valid_data.csv\"\n",
    "data = pd.read_csv(path)\n",
    "print(len(data))\n",
    "num = 0\n",
    "val_smi_list = []\n",
    "for i in range(len(data)):\n",
    "    val_smi_list.append(data['smiles'][i])\n",
    "    num += 1\n",
    "print(f\"number of the valuable data is {num}.\")\n",
    "\n",
    "path = \"/home/jovyan/prompts_learning/herg_dataset/hERGDB_cls_week1_1201.csv\"\n",
    "data = pd.read_csv(path)\n",
    "print(len(data))\n",
    "num = 0\n",
    "week1_smi_list = []\n",
    "for i in range(len(data)):\n",
    "    week1_smi_list.append(data['smiles'][i])\n",
    "    num += 1\n",
    "print(f\"number of the valuable data is {num}.\")\n",
    "\n",
    "path = \"/home/jovyan/prompts_learning/herg_dataset/hERGDB_cls_week2_1201.csv\"\n",
    "data = pd.read_csv(path)\n",
    "print(len(data))\n",
    "num = 0\n",
    "week2_smi_list = []\n",
    "for i in range(len(data)):\n",
    "    week2_smi_list.append(data['smiles'][i])\n",
    "    num += 1\n",
    "print(f\"number of the valuable data is {num}.\")\n",
    "\n",
    "path = \"/home/jovyan/prompts_learning/herg_dataset/hERGDB_cls_week3_1201.csv\"\n",
    "data = pd.read_csv(path)\n",
    "print(len(data))\n",
    "num = 0\n",
    "week3_smi_list = []\n",
    "for i in range(len(data)):\n",
    "    week3_smi_list.append(data['smiles'][i])\n",
    "    num += 1\n",
    "print(f\"number of the valuable data is {num}.\")\n",
    "\n",
    "\n",
    "path = \"/home/jovyan/prompts_learning/herg_dataset/hERGDB_cls_week4_1201.csv\"\n",
    "data = pd.read_csv(path)\n",
    "print(len(data))\n",
    "num = 0\n",
    "week4_smi_list = []\n",
    "for i in range(len(data)):\n",
    "    week4_smi_list.append(data['smiles'][i])\n",
    "    num += 1\n",
    "print(f\"number of the valuable data is {num}.\")\n",
    "\n",
    "seed = 42\n",
    "data_path = './results'  # replace to your data path\n",
    "batch_size=16\n",
    "conf_size=11  # default 10 3d + 1 2d\n",
    "results_path=data_path   # replace to your save path\n",
    "print(\"start preprocessing...\")\n",
    "job_name = 'herg_cls_train'\n",
    "write_lmdb(smi_list, job_name=job_name, seed=seed, outpath=data_path)\n",
    "job_name = 'herg_cls_val'\n",
    "write_lmdb(val_smi_list, job_name=job_name, seed=seed, outpath=data_path)\n",
    "job_name = 'hearg_cls_week1'\n",
    "write_lmdb(week1_smi_list, job_name=job_name, seed=seed, outpath=data_path)\n",
    "job_name = 'hearg_cls_week2'\n",
    "write_lmdb(week2_smi_list, job_name=job_name, seed=seed, outpath=data_path)\n",
    "job_name = 'hearg_cls_week3'\n",
    "write_lmdb(week3_smi_list, job_name=job_name, seed=seed, outpath=data_path)\n",
    "job_name = 'hearg_cls_week4'\n",
    "write_lmdb(week4_smi_list, job_name=job_name, seed=seed, outpath=data_path)\n",
    "\n",
    "print(\"Generate successfully!\")\n"
   ]
  },
  {
   "cell_type": "code",
   "execution_count": 1,
   "id": "a670a422-8320-456e-9af7-0b76f99fb4e6",
   "metadata": {},
   "outputs": [
    {
     "name": "stdout",
     "output_type": "stream",
     "text": [
      "start preprocessing...\n"
     ]
    },
    {
     "name": "stderr",
     "output_type": "stream",
     "text": [
      "3it [00:00,  3.25it/s][08:49:58] UFFTYPER: Unrecognized atom type: Pt3+2 (0)\n",
      "[08:49:58] UFFTYPER: Unrecognized atom type: Pt3+2 (0)\n",
      "[08:49:58] UFFTYPER: Unrecognized atom type: Pt3+2 (0)\n",
      "[08:49:58] UFFTYPER: Unrecognized atom type: Pt3+2 (0)\n",
      "[08:49:58] UFFTYPER: Unrecognized atom type: Pt3+2 (0)\n",
      "[08:49:58] UFFTYPER: Unrecognized atom type: Pt3+2 (0)\n",
      "[08:49:58] UFFTYPER: Unrecognized atom type: Pt3+2 (0)\n",
      "[08:49:58] UFFTYPER: Unrecognized atom type: Pt3+2 (0)\n",
      "[08:49:58] UFFTYPER: Unrecognized atom type: Pt3+2 (0)\n",
      "[08:49:58] UFFTYPER: Unrecognized atom type: Pt3+2 (0)\n",
      "158it [00:44,  1.95it/s][08:50:42] Molecule does not have explicit Hs. Consider calling AddHs()\n",
      "[08:50:42] Molecule does not have explicit Hs. Consider calling AddHs()\n",
      "161it [00:45,  2.08it/s][08:50:43] Molecule does not have explicit Hs. Consider calling AddHs()\n",
      "[08:50:43] Molecule does not have explicit Hs. Consider calling AddHs()\n",
      "[08:50:43] Molecule does not have explicit Hs. Consider calling AddHs()\n"
     ]
    },
    {
     "name": "stdout",
     "output_type": "stream",
     "text": [
      "Failed to generate 3D, replace with 2D\n"
     ]
    },
    {
     "name": "stderr",
     "output_type": "stream",
     "text": [
      "[08:50:43] Molecule does not have explicit Hs. Consider calling AddHs()\n"
     ]
    },
    {
     "name": "stdout",
     "output_type": "stream",
     "text": [
      "Failed to generate 3D, replace with 2D\n"
     ]
    },
    {
     "name": "stderr",
     "output_type": "stream",
     "text": [
      "[08:50:44] Molecule does not have explicit Hs. Consider calling AddHs()\n",
      "[08:50:44] Molecule does not have explicit Hs. Consider calling AddHs()\n"
     ]
    },
    {
     "name": "stdout",
     "output_type": "stream",
     "text": [
      "Failed to generate 3D, replace with 2D\n"
     ]
    },
    {
     "name": "stderr",
     "output_type": "stream",
     "text": [
      "[08:50:45] Molecule does not have explicit Hs. Consider calling AddHs()\n",
      "[08:50:45] Molecule does not have explicit Hs. Consider calling AddHs()\n"
     ]
    },
    {
     "name": "stdout",
     "output_type": "stream",
     "text": [
      "Failed to generate 3D, replace with 2D\n"
     ]
    },
    {
     "name": "stderr",
     "output_type": "stream",
     "text": [
      "[08:50:45] Molecule does not have explicit Hs. Consider calling AddHs()\n",
      "[08:50:45] Molecule does not have explicit Hs. Consider calling AddHs()\n"
     ]
    },
    {
     "name": "stdout",
     "output_type": "stream",
     "text": [
      "Failed to generate 3D, replace with 2D\n"
     ]
    },
    {
     "name": "stderr",
     "output_type": "stream",
     "text": [
      "[08:50:46] Molecule does not have explicit Hs. Consider calling AddHs()\n",
      "[08:50:46] Molecule does not have explicit Hs. Consider calling AddHs()\n"
     ]
    },
    {
     "name": "stdout",
     "output_type": "stream",
     "text": [
      "Failed to generate 3D, replace with 2D\n"
     ]
    },
    {
     "name": "stderr",
     "output_type": "stream",
     "text": [
      "[08:50:46] Molecule does not have explicit Hs. Consider calling AddHs()\n",
      "162it [00:49,  1.39it/s][08:50:46] Molecule does not have explicit Hs. Consider calling AddHs()\n"
     ]
    },
    {
     "name": "stdout",
     "output_type": "stream",
     "text": [
      "Failed to generate 3D, replace with 2D\n",
      "Failed to generate 3D, replace with 2D\n",
      "Failed to generate 3D, replace with 2D\n"
     ]
    },
    {
     "name": "stderr",
     "output_type": "stream",
     "text": [
      "[08:50:47] Molecule does not have explicit Hs. Consider calling AddHs()\n",
      "[08:50:47] Molecule does not have explicit Hs. Consider calling AddHs()\n"
     ]
    },
    {
     "name": "stdout",
     "output_type": "stream",
     "text": [
      "Failed to generate 3D, replace with 2D\n"
     ]
    },
    {
     "name": "stderr",
     "output_type": "stream",
     "text": [
      "[08:50:47] Molecule does not have explicit Hs. Consider calling AddHs()\n",
      "[08:50:47] Molecule does not have explicit Hs. Consider calling AddHs()\n"
     ]
    },
    {
     "name": "stdout",
     "output_type": "stream",
     "text": [
      "Failed to generate 3D, replace with 2D\n"
     ]
    },
    {
     "name": "stderr",
     "output_type": "stream",
     "text": [
      "[08:50:47] Molecule does not have explicit Hs. Consider calling AddHs()\n"
     ]
    },
    {
     "name": "stdout",
     "output_type": "stream",
     "text": [
      "Failed to generate 3D, replace with 2D\n",
      "Failed to generate 3D, replace with 2D\n"
     ]
    },
    {
     "name": "stderr",
     "output_type": "stream",
     "text": [
      "[08:50:48] Molecule does not have explicit Hs. Consider calling AddHs()\n"
     ]
    },
    {
     "name": "stdout",
     "output_type": "stream",
     "text": [
      "Failed to generate 3D, replace with 2D\n"
     ]
    },
    {
     "name": "stderr",
     "output_type": "stream",
     "text": [
      "[08:50:48] Molecule does not have explicit Hs. Consider calling AddHs()\n",
      "166it [00:50,  1.57it/s][08:50:48] Molecule does not have explicit Hs. Consider calling AddHs()\n"
     ]
    },
    {
     "name": "stdout",
     "output_type": "stream",
     "text": [
      "Failed to generate 3D, replace with 2D\n",
      "Failed to generate 3D, replace with 2D\n"
     ]
    },
    {
     "name": "stderr",
     "output_type": "stream",
     "text": [
      "[08:50:49] Molecule does not have explicit Hs. Consider calling AddHs()\n"
     ]
    },
    {
     "name": "stdout",
     "output_type": "stream",
     "text": [
      "Failed to generate 3D, replace with 2D\n"
     ]
    },
    {
     "name": "stderr",
     "output_type": "stream",
     "text": [
      "168it [00:51,  1.73it/s][08:50:49] Molecule does not have explicit Hs. Consider calling AddHs()\n"
     ]
    },
    {
     "name": "stdout",
     "output_type": "stream",
     "text": [
      "Failed to generate 3D, replace with 2D\n"
     ]
    },
    {
     "name": "stderr",
     "output_type": "stream",
     "text": [
      "[08:50:49] Molecule does not have explicit Hs. Consider calling AddHs()\n"
     ]
    },
    {
     "name": "stdout",
     "output_type": "stream",
     "text": [
      "Failed to generate 3D, replace with 2D\n"
     ]
    },
    {
     "name": "stderr",
     "output_type": "stream",
     "text": [
      "[08:50:49] Molecule does not have explicit Hs. Consider calling AddHs()\n",
      "[08:50:50] Molecule does not have explicit Hs. Consider calling AddHs()\n"
     ]
    },
    {
     "name": "stdout",
     "output_type": "stream",
     "text": [
      "Failed to generate 3D, replace with 2D\n"
     ]
    },
    {
     "name": "stderr",
     "output_type": "stream",
     "text": [
      "[08:50:50] Molecule does not have explicit Hs. Consider calling AddHs()\n",
      "[08:50:50] Molecule does not have explicit Hs. Consider calling AddHs()\n"
     ]
    },
    {
     "name": "stdout",
     "output_type": "stream",
     "text": [
      "Failed to generate 3D, replace with 2D\n"
     ]
    },
    {
     "name": "stderr",
     "output_type": "stream",
     "text": [
      "[08:50:50] Molecule does not have explicit Hs. Consider calling AddHs()\n"
     ]
    },
    {
     "name": "stdout",
     "output_type": "stream",
     "text": [
      "Failed to generate 3D, replace with 2D\n",
      "Failed to generate 3D, replace with 2D\n"
     ]
    },
    {
     "name": "stderr",
     "output_type": "stream",
     "text": [
      "[08:50:53] Molecule does not have explicit Hs. Consider calling AddHs()\n",
      "[08:50:54] Molecule does not have explicit Hs. Consider calling AddHs()\n",
      "[08:50:54] Molecule does not have explicit Hs. Consider calling AddHs()\n",
      "[08:50:54] Molecule does not have explicit Hs. Consider calling AddHs()\n"
     ]
    },
    {
     "name": "stdout",
     "output_type": "stream",
     "text": [
      "Failed to generate 3D, replace with 2D\n"
     ]
    },
    {
     "name": "stderr",
     "output_type": "stream",
     "text": [
      "[08:50:57] Molecule does not have explicit Hs. Consider calling AddHs()\n",
      "[08:50:58] Molecule does not have explicit Hs. Consider calling AddHs()\n"
     ]
    },
    {
     "name": "stdout",
     "output_type": "stream",
     "text": [
      "Failed to generate 3D, replace with 2D\n"
     ]
    },
    {
     "name": "stderr",
     "output_type": "stream",
     "text": [
      "[08:50:59] Molecule does not have explicit Hs. Consider calling AddHs()\n",
      "169it [01:02,  1.81s/it]"
     ]
    },
    {
     "name": "stdout",
     "output_type": "stream",
     "text": [
      "Failed to generate 3D, replace with 2D\n"
     ]
    },
    {
     "name": "stderr",
     "output_type": "stream",
     "text": [
      "184it [01:18,  1.67s/it][08:51:17] Molecule does not have explicit Hs. Consider calling AddHs()\n",
      "185it [01:20,  1.73s/it]"
     ]
    },
    {
     "name": "stdout",
     "output_type": "stream",
     "text": [
      "Failed to generate 3D, replace with 2D\n"
     ]
    },
    {
     "name": "stderr",
     "output_type": "stream",
     "text": [
      "[08:51:19] Molecule does not have explicit Hs. Consider calling AddHs()\n",
      "188it [01:22,  2.28it/s]\n",
      "\n",
      "KeyboardInterrupt\n",
      "\n"
     ]
    }
   ],
   "source": [
    "import os\n",
    "import numpy as np\n",
    "import pandas as pd\n",
    "import lmdb\n",
    "from rdkit import Chem\n",
    "from rdkit.Chem import AllChem\n",
    "from tqdm import tqdm\n",
    "import pickle\n",
    "import glob\n",
    "from multiprocessing import Pool\n",
    "from collections import defaultdict\n",
    "\n",
    "\n",
    "def smi2_2Dcoords(smi):\n",
    "    mol = Chem.MolFromSmiles(smi)\n",
    "    mol = AllChem.AddHs(mol)\n",
    "    AllChem.Compute2DCoords(mol)\n",
    "    coordinates = mol.GetConformer().GetPositions().astype(np.float32)\n",
    "    len(mol.GetAtoms()) == len(coordinates), \"2D coordinates shape is not align with {}\".format(smi)\n",
    "    return coordinates\n",
    "\n",
    "\n",
    "def smi2_3Dcoords(smi,cnt):\n",
    "    mol = Chem.MolFromSmiles(smi)\n",
    "    mol = AllChem.AddHs(mol)\n",
    "    coordinate_list=[]\n",
    "    for seed in range(cnt):\n",
    "        try:\n",
    "            res = AllChem.EmbedMolecule(mol, randomSeed=seed)  # will random generate conformer with seed equal to -1. else fixed random seed.\n",
    "            if res == 0:\n",
    "                try:\n",
    "                    AllChem.MMFFOptimizeMolecule(mol)       # some conformer can not use MMFF optimize\n",
    "                    coordinates = mol.GetConformer().GetPositions()\n",
    "                except:\n",
    "                    print(\"Failed to generate 3D, replace with 2D\")\n",
    "                    coordinates = smi2_2Dcoords(smi)            \n",
    "                    \n",
    "            elif res == -1:\n",
    "                mol_tmp = Chem.MolFromSmiles(smi)\n",
    "                AllChem.EmbedMolecule(mol_tmp, maxAttempts=5000, randomSeed=seed)\n",
    "                mol_tmp = AllChem.AddHs(mol_tmp, addCoords=True)\n",
    "                try:\n",
    "                    AllChem.MMFFOptimizeMolecule(mol_tmp)       # some conformer can not use MMFF optimize\n",
    "                    coordinates = mol_tmp.GetConformer().GetPositions()\n",
    "                except:\n",
    "                    print(\"Failed to generate 3D, replace with 2D\")\n",
    "                    coordinates = smi2_2Dcoords(smi) \n",
    "        except:\n",
    "            print(\"Failed to generate 3D, replace with 2D\")\n",
    "            coordinates = smi2_2Dcoords(smi) \n",
    "\n",
    "        assert len(mol.GetAtoms()) == len(coordinates), \"3D coordinates shape is not align with {}\".format(smi)\n",
    "        coordinate_list.append(coordinates.astype(np.float32))\n",
    "    return coordinate_list\n",
    "\n",
    "\n",
    "def inner_smi2coords(content):\n",
    "    smi = content[0]\n",
    "    text = content[1]\n",
    "    cnt = 10 # conformer num,all==11, 10 3d + 1 2d\n",
    "\n",
    "    mol = Chem.MolFromSmiles(smi)\n",
    "    if len(mol.GetAtoms()) > 400:\n",
    "        coordinate_list =  [smi2_2Dcoords(smi)] * (cnt+1)\n",
    "        print(\"atom num >400,use 2D coords\",smi)\n",
    "    else:\n",
    "        coordinate_list = smi2_3Dcoords(smi,cnt)\n",
    "        # add 2d conf\n",
    "        coordinate_list.append(smi2_2Dcoords(smi).astype(np.float32))\n",
    "    mol = AllChem.AddHs(mol)\n",
    "    atoms = [atom.GetSymbol() for atom in mol.GetAtoms()]  # after add H \n",
    "    \n",
    "    # 获取最短路径矩阵 SPD\n",
    "    distance_matrix = AllChem.GetDistanceMatrix(mol) \n",
    " \n",
    "    # 获取边矩阵 Edge\n",
    "    adjacency_matrix = AllChem.GetAdjacencyMatrix(mol)\n",
    "    \n",
    "    return pickle.dumps({'atoms': atoms, 'coordinates': coordinate_list, \"SPD\": distance_matrix,\\\n",
    "                         \"edge\": adjacency_matrix, 'smi': smi, \"text\": text}, protocol=-1)\n",
    "\n",
    "\n",
    "def smi2coords(content):\n",
    "    try:\n",
    "        return inner_smi2coords(content)\n",
    "    except:\n",
    "        print(\"failed smiles: {}\".format(content[0]))\n",
    "        return None\n",
    "\n",
    "\n",
    "def write_lmdb(smiles_list, job_name, seed=42, outpath='./results', nthreads=8):\n",
    "    os.makedirs(outpath, exist_ok=True)\n",
    "    output_name = os.path.join(outpath,'{}.lmdb'.format(job_name))\n",
    "    try:\n",
    "        os.remove(output_name)\n",
    "    except:\n",
    "        pass\n",
    "    env_new = lmdb.open(\n",
    "        output_name,\n",
    "        subdir=False,\n",
    "        readonly=False,\n",
    "        lock=False,\n",
    "        readahead=False,\n",
    "        meminit=False,\n",
    "        max_readers=1,\n",
    "        map_size=int(100e9),\n",
    "    )\n",
    "    txn_write = env_new.begin(write=True)\n",
    "    with Pool(nthreads) as pool:\n",
    "        i = 0\n",
    "        # for inner_output in tqdm(pool.imap(smi2coords, smiles_list)):\n",
    "        for inner_output in tqdm(pool.imap(smi2coords, smiles_list)):\n",
    "            if inner_output is not None:\n",
    "                txn_write.put(f'{i}'.encode(\"ascii\"), inner_output)\n",
    "                i += 1\n",
    "        print('{} process {} lines'.format(job_name, i))\n",
    "        txn_write.commit()\n",
    "        env_new.close()\n",
    "\n",
    "\n",
    "\n",
    "\n",
    "# load original dataset\n",
    "import torch\n",
    "from torch_geometric.data import InMemoryDataset\n",
    "class PubChemDataset(InMemoryDataset):\n",
    "    def __init__(self, path):\n",
    "        super(PubChemDataset, self).__init__()\n",
    "        self.data, self.slices = torch.load(path)\n",
    "    \n",
    "    def __getitem__(self, idx):\n",
    "        return self.get(idx)\n",
    "\n",
    "\n",
    "# smi_list = []\n",
    "# text_list = []\n",
    "mol_list = []\n",
    "dataset = PubChemDataset('./pretrain_data/PubChem324kV2/pretrain.pt')\n",
    "for i in range(len(dataset)):\n",
    "    smi = dataset[i]['smiles']\n",
    "    text = dataset[i]['text']\n",
    "    mol_list.append([smi, text])\n",
    "    \n",
    "\n",
    "\n",
    "seed = 42\n",
    "data_path = './results'  # replace to your data path\n",
    "batch_size=16\n",
    "conf_size=11  # default 10 3d + 1 2d\n",
    "results_path=data_path   # replace to your save path\n",
    "print(\"start preprocessing...\")\n",
    "job_name = 'pubchem_pretrain'\n",
    "write_lmdb(mol_list, job_name=job_name, seed=seed, outpath=data_path)\n",
    "\n",
    "\n",
    "print(\"Generate successfully!\")\n",
    "    "
   ]
  },
  {
   "cell_type": "code",
   "execution_count": null,
   "id": "8b05fff0-f03e-4bff-a4bd-837508ff4bb0",
   "metadata": {},
   "outputs": [],
   "source": []
  }
 ],
 "metadata": {
  "kernelspec": {
   "display_name": "fcb",
   "language": "python",
   "name": "fcb"
  },
  "language_info": {
   "codemirror_mode": {
    "name": "ipython",
    "version": 3
   },
   "file_extension": ".py",
   "mimetype": "text/x-python",
   "name": "python",
   "nbconvert_exporter": "python",
   "pygments_lexer": "ipython3",
   "version": "3.8.20"
  }
 },
 "nbformat": 4,
 "nbformat_minor": 5
}
